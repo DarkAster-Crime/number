{
  "nbformat": 4,
  "nbformat_minor": 0,
  "metadata": {
    "colab": {
      "provenance": []
    },
    "kernelspec": {
      "name": "python3",
      "display_name": "Python 3"
    },
    "language_info": {
      "name": "python"
    }
  },
  "cells": [
    {
      "cell_type": "code",
      "execution_count": 33,
      "metadata": {
        "id": "HT7UFap1qQ8d"
      },
      "outputs": [],
      "source": [
        "import numpy as np\n",
        "import pandas as pd\n",
        "import matplotlib.pyplot as plt\n",
        "import tensorflow as tf"
      ]
    },
    {
      "cell_type": "code",
      "source": [
        "df = pd.read_csv('/content/train.csv')\n",
        "print(df.info())"
      ],
      "metadata": {
        "colab": {
          "base_uri": "https://localhost:8080/"
        },
        "id": "sWryRNMXqSIp",
        "outputId": "2fb5693f-b53e-422b-fb72-266d1f7242f4"
      },
      "execution_count": 34,
      "outputs": [
        {
          "output_type": "stream",
          "name": "stdout",
          "text": [
            "<class 'pandas.core.frame.DataFrame'>\n",
            "RangeIndex: 42000 entries, 0 to 41999\n",
            "Columns: 785 entries, label to pixel783\n",
            "dtypes: int64(785)\n",
            "memory usage: 251.5 MB\n",
            "None\n"
          ]
        }
      ]
    },
    {
      "cell_type": "code",
      "source": [
        "train_df = df.head(37800)\n",
        "val_df = df.tail(4200)\n",
        "\n",
        "train_labels = train_df.pop('label')\n",
        "val_labels = val_df.pop('label')"
      ],
      "metadata": {
        "id": "3BtEvKHCsHVQ"
      },
      "execution_count": 35,
      "outputs": []
    },
    {
      "cell_type": "code",
      "source": [
        "tf_train_df = tf.data.Dataset.from_tensor_slices((train_df.values, train_labels.values))\n",
        "tf_val_df = tf.data.Dataset.from_tensor_slices((val_df.values, val_labels.values))"
      ],
      "metadata": {
        "id": "n8QigWCqsYjV"
      },
      "execution_count": 36,
      "outputs": []
    },
    {
      "cell_type": "code",
      "source": [
        "plt.figure(figsize=(10,10))\n",
        "i = 0\n",
        "for image, label in tf_train_df.take(5):\n",
        "    plt.subplot(1,5,i+1)\n",
        "    plt.xticks([])\n",
        "    plt.yticks([])\n",
        "    plt.grid(False)\n",
        "    plt.imshow(image.numpy().reshape((28, 28)), cmap='gray')\n",
        "    plt.xlabel(label.numpy())\n",
        "    i = i + 1"
      ],
      "metadata": {
        "colab": {
          "base_uri": "https://localhost:8080/",
          "height": 141
        },
        "id": "nqDxdq5xs1P0",
        "outputId": "e182192b-79ef-4e8b-c6a5-79ea37c766e9"
      },
      "execution_count": 37,
      "outputs": [
        {
          "output_type": "display_data",
          "data": {
            "text/plain": [
              "<Figure size 720x720 with 5 Axes>"
            ],
            "image/png": "[encoded data removed]"
          },
          "metadata": {}
        }
      ]
    },
    {
      "cell_type": "code",
      "source": [
        "def preprocess_image(image, label):\n",
        "    image = tf.reshape(image, [28, 28, 1])\n",
        "    image = tf.cast(image, tf.float32) / 255.   \n",
        "    return image,label\n",
        "tf_train_df = tf_train_df.map(preprocess_image,num_parallel_calls=tf.data.experimental.AUTOTUNE)\n",
        "tf_val_df = tf_val_df.map(preprocess_image,num_parallel_calls=tf.data.experimental.AUTOTUNE)\n",
        "print(tf_train_df)\n",
        "print(tf_val_df)"
      ],
      "metadata": {
        "colab": {
          "base_uri": "https://localhost:8080/"
        },
        "id": "Mf2h9QPstG0N",
        "outputId": "2c4ab630-e2e9-4850-e0d0-ffaa6a3f0d28"
      },
      "execution_count": 38,
      "outputs": [
        {
          "output_type": "stream",
          "name": "stdout",
          "text": [
            "<ParallelMapDataset element_spec=(TensorSpec(shape=(28, 28, 1), dtype=tf.float32, name=None), TensorSpec(shape=(), dtype=tf.int64, name=None))>\n",
            "<ParallelMapDataset element_spec=(TensorSpec(shape=(28, 28, 1), dtype=tf.float32, name=None), TensorSpec(shape=(), dtype=tf.int64, name=None))>\n"
          ]
        }
      ]
    },
    {
      "cell_type": "code",
      "source": [
        "def pipeline(tf_data):\n",
        "    tf_data = tf_data.shuffle(100)\n",
        "    tf_data = tf_data.batch(32)\n",
        "    tf_data = tf_data.prefetch(tf.data.experimental.AUTOTUNE)\n",
        "    \n",
        "    return tf_data\n",
        "\n",
        "tf_train_df = pipeline(tf_train_df)\n",
        "tf_val_df = pipeline(tf_val_df)\n",
        "\n",
        "print(tf_train_df)\n",
        "print(tf_val_df)"
      ],
      "metadata": {
        "colab": {
          "base_uri": "https://localhost:8080/"
        },
        "id": "ywpt2UKluYkD",
        "outputId": "4bd02619-219c-4fee-ae95-4db3d8b0cc66"
      },
      "execution_count": 39,
      "outputs": [
        {
          "output_type": "stream",
          "name": "stdout",
          "text": [
            "<PrefetchDataset element_spec=(TensorSpec(shape=(None, 28, 28, 1), dtype=tf.float32, name=None), TensorSpec(shape=(None,), dtype=tf.int64, name=None))>\n",
            "<PrefetchDataset element_spec=(TensorSpec(shape=(None, 28, 28, 1), dtype=tf.float32, name=None), TensorSpec(shape=(None,), dtype=tf.int64, name=None))>\n"
          ]
        }
      ]
    },
    {
      "cell_type": "code",
      "source": [
        "model = tf.keras.Sequential([tf.keras.layers.Conv2D(6, (5, 5), activation='relu', padding='same', input_shape=(28, 28, 1)),tf.keras.layers.MaxPooling2D((2, 2)),tf.keras.layers.Conv2D(16, (5, 5), activation='relu', padding='valid'),tf.keras.layers.MaxPooling2D((2, 2)),tf.keras.layers.Flatten(),tf.keras.layers.Dense(120, activation='relu'),tf.keras.layers.Dense(84, activation='relu'),tf.keras.layers.Dense(10, activation='softmax'),])\n"
      ],
      "metadata": {
        "id": "YU9bhxKlv8CT"
      },
      "execution_count": 40,
      "outputs": []
    },
    {
      "cell_type": "code",
      "source": [
        "optimiser = tf.keras.optimizers.Adam(learning_rate=0.001)\n",
        "model.compile(optimizer=optimiser,loss='sparse_categorical_crossentropy',metrics=['accuracy'])\n",
        "model.summary()"
      ],
      "metadata": {
        "colab": {
          "base_uri": "https://localhost:8080/"
        },
        "id": "rjuKLpvcwd45",
        "outputId": "f626e6a7-9ab4-42a2-f59a-dbbd33d26821"
      },
      "execution_count": 41,
      "outputs": [
        {
          "output_type": "stream",
          "name": "stdout",
          "text": [
            "Model: \"sequential_1\"\n",
            "_________________________________________________________________\n",
            " Layer (type)                Output Shape              Param #   \n",
            "=================================================================\n",
            " conv2d_2 (Conv2D)           (None, 28, 28, 6)         156       \n",
            "                                                                 \n",
            " max_pooling2d_2 (MaxPooling  (None, 14, 14, 6)        0         \n",
            " 2D)                                                             \n",
            "                                                                 \n",
            " conv2d_3 (Conv2D)           (None, 10, 10, 16)        2416      \n",
            "                                                                 \n",
            " max_pooling2d_3 (MaxPooling  (None, 5, 5, 16)         0         \n",
            " 2D)                                                             \n",
            "                                                                 \n",
            " flatten_1 (Flatten)         (None, 400)               0         \n",
            "                                                                 \n",
            " dense_3 (Dense)             (None, 120)               48120     \n",
            "                                                                 \n",
            " dense_4 (Dense)             (None, 84)                10164     \n",
            "                                                                 \n",
            " dense_5 (Dense)             (None, 10)                850       \n",
            "                                                                 \n",
            "=================================================================\n",
            "Total params: 61,706\n",
            "Trainable params: 61,706\n",
            "Non-trainable params: 0\n",
            "_________________________________________________________________\n"
          ]
        }
      ]
    },
    {
      "cell_type": "code",
      "source": [
        "callbacks = [tf.keras.callbacks.ReduceLROnPlateau(monitor='loss', patience=2, verbose=1),tf.keras.callbacks.EarlyStopping(monitor='loss', patience=5, verbose=1),]"
      ],
      "metadata": {
        "id": "pleO9D6rwvXp"
      },
      "execution_count": 42,
      "outputs": []
    },
    {
      "cell_type": "code",
      "source": [
        "train_log = model.fit(tf_train_df,validation_data=tf_val_df,epochs=30,callbacks=callbacks)"
      ],
      "metadata": {
        "colab": {
          "base_uri": "https://localhost:8080/"
        },
        "id": "1BaS6_rhxUph",
        "outputId": "8a38f4dc-f7d2-47b4-ed49-7affae0a242c"
      },
      "execution_count": 43,
      "outputs": [
        {
          "output_type": "stream",
          "name": "stdout",
          "text": [
            "Epoch 1/30\n",
            "1182/1182 [==============================] - 33s 27ms/step - loss: 0.2376 - accuracy: 0.9281 - val_loss: 0.1110 - val_accuracy: 0.9638 - lr: 0.0010\n",
            "Epoch 2/30\n",
            "1182/1182 [==============================] - 30s 25ms/step - loss: 0.0722 - accuracy: 0.9779 - val_loss: 0.0778 - val_accuracy: 0.9736 - lr: 0.0010\n",
            "Epoch 3/30\n",
            "1182/1182 [==============================] - 32s 27ms/step - loss: 0.0498 - accuracy: 0.9852 - val_loss: 0.0742 - val_accuracy: 0.9707 - lr: 0.0010\n",
            "Epoch 4/30\n",
            "1182/1182 [==============================] - 31s 26ms/step - loss: 0.0390 - accuracy: 0.9881 - val_loss: 0.0543 - val_accuracy: 0.9810 - lr: 0.0010\n",
            "Epoch 5/30\n",
            "1182/1182 [==============================] - 30s 25ms/step - loss: 0.0319 - accuracy: 0.9902 - val_loss: 0.0663 - val_accuracy: 0.9805 - lr: 0.0010\n",
            "Epoch 6/30\n",
            "1182/1182 [==============================] - 30s 25ms/step - loss: 0.0273 - accuracy: 0.9914 - val_loss: 0.0766 - val_accuracy: 0.9748 - lr: 0.0010\n",
            "Epoch 7/30\n",
            "1182/1182 [==============================] - 31s 26ms/step - loss: 0.0213 - accuracy: 0.9932 - val_loss: 0.0639 - val_accuracy: 0.9817 - lr: 0.0010\n",
            "Epoch 8/30\n",
            "1182/1182 [==============================] - 31s 26ms/step - loss: 0.0168 - accuracy: 0.9947 - val_loss: 0.0609 - val_accuracy: 0.9850 - lr: 0.0010\n",
            "Epoch 9/30\n",
            "1182/1182 [==============================] - 31s 26ms/step - loss: 0.0153 - accuracy: 0.9951 - val_loss: 0.0970 - val_accuracy: 0.9764 - lr: 0.0010\n",
            "Epoch 10/30\n",
            "1182/1182 [==============================] - 33s 28ms/step - loss: 0.0131 - accuracy: 0.9957 - val_loss: 0.0743 - val_accuracy: 0.9826 - lr: 0.0010\n",
            "Epoch 11/30\n",
            "1182/1182 [==============================] - 31s 27ms/step - loss: 0.0127 - accuracy: 0.9958 - val_loss: 0.0596 - val_accuracy: 0.9881 - lr: 0.0010\n",
            "Epoch 12/30\n",
            "1182/1182 [==============================] - 31s 26ms/step - loss: 0.0117 - accuracy: 0.9963 - val_loss: 0.0715 - val_accuracy: 0.9852 - lr: 0.0010\n",
            "Epoch 13/30\n",
            "1182/1182 [==============================] - 30s 25ms/step - loss: 0.0096 - accuracy: 0.9967 - val_loss: 0.0619 - val_accuracy: 0.9862 - lr: 0.0010\n",
            "Epoch 14/30\n",
            "1182/1182 [==============================] - 30s 25ms/step - loss: 0.0119 - accuracy: 0.9966 - val_loss: 0.0670 - val_accuracy: 0.9862 - lr: 0.0010\n",
            "Epoch 15/30\n",
            "1180/1182 [============================>.] - ETA: 0s - loss: 0.0095 - accuracy: 0.9969\n",
            "Epoch 15: ReduceLROnPlateau reducing learning rate to 0.00010000000474974513.\n",
            "1182/1182 [==============================] - 31s 26ms/step - loss: 0.0096 - accuracy: 0.9969 - val_loss: 0.0730 - val_accuracy: 0.9845 - lr: 0.0010\n",
            "Epoch 16/30\n",
            "1182/1182 [==============================] - 30s 25ms/step - loss: 0.0043 - accuracy: 0.9984 - val_loss: 0.0566 - val_accuracy: 0.9893 - lr: 1.0000e-04\n",
            "Epoch 17/30\n",
            "1182/1182 [==============================] - 30s 25ms/step - loss: 0.0014 - accuracy: 0.9996 - val_loss: 0.0575 - val_accuracy: 0.9900 - lr: 1.0000e-04\n",
            "Epoch 18/30\n",
            "1182/1182 [==============================] - 31s 26ms/step - loss: 7.6317e-04 - accuracy: 0.9999 - val_loss: 0.0592 - val_accuracy: 0.9900 - lr: 1.0000e-04\n",
            "Epoch 19/30\n",
            "1182/1182 [==============================] - 30s 26ms/step - loss: 4.5353e-04 - accuracy: 1.0000 - val_loss: 0.0615 - val_accuracy: 0.9902 - lr: 1.0000e-04\n",
            "Epoch 20/30\n",
            "1182/1182 [==============================] - 30s 25ms/step - loss: 2.8391e-04 - accuracy: 1.0000 - val_loss: 0.0637 - val_accuracy: 0.9907 - lr: 1.0000e-04\n",
            "Epoch 21/30\n",
            "1182/1182 [==============================] - 31s 26ms/step - loss: 1.8404e-04 - accuracy: 1.0000 - val_loss: 0.0660 - val_accuracy: 0.9907 - lr: 1.0000e-04\n",
            "Epoch 22/30\n",
            "1182/1182 [==============================] - 30s 26ms/step - loss: 1.1978e-04 - accuracy: 1.0000 - val_loss: 0.0696 - val_accuracy: 0.9910 - lr: 1.0000e-04\n",
            "Epoch 23/30\n",
            "1182/1182 [==============================] - 32s 27ms/step - loss: 7.0973e-05 - accuracy: 1.0000 - val_loss: 0.0722 - val_accuracy: 0.9910 - lr: 1.0000e-04\n",
            "Epoch 24/30\n",
            "1180/1182 [============================>.] - ETA: 0s - loss: 4.6204e-05 - accuracy: 1.0000\n",
            "Epoch 24: ReduceLROnPlateau reducing learning rate to 1.0000000474974514e-05.\n",
            "1182/1182 [==============================] - 30s 26ms/step - loss: 4.6155e-05 - accuracy: 1.0000 - val_loss: 0.0754 - val_accuracy: 0.9910 - lr: 1.0000e-04\n",
            "Epoch 25/30\n",
            "1182/1182 [==============================] - 31s 26ms/step - loss: 2.5187e-05 - accuracy: 1.0000 - val_loss: 0.0750 - val_accuracy: 0.9910 - lr: 1.0000e-05\n",
            "Epoch 26/30\n",
            "1181/1182 [============================>.] - ETA: 0s - loss: 2.0970e-05 - accuracy: 1.0000\n",
            "Epoch 26: ReduceLROnPlateau reducing learning rate to 1.0000000656873453e-06.\n",
            "1182/1182 [==============================] - 30s 25ms/step - loss: 2.0965e-05 - accuracy: 1.0000 - val_loss: 0.0753 - val_accuracy: 0.9910 - lr: 1.0000e-05\n",
            "Epoch 27/30\n",
            "1182/1182 [==============================] - 30s 25ms/step - loss: 1.8309e-05 - accuracy: 1.0000 - val_loss: 0.0753 - val_accuracy: 0.9910 - lr: 1.0000e-06\n",
            "Epoch 28/30\n",
            "1182/1182 [==============================] - 31s 26ms/step - loss: 1.8047e-05 - accuracy: 1.0000 - val_loss: 0.0754 - val_accuracy: 0.9910 - lr: 1.0000e-06\n",
            "Epoch 29/30\n",
            "1180/1182 [============================>.] - ETA: 0s - loss: 1.7745e-05 - accuracy: 1.0000\n",
            "Epoch 29: ReduceLROnPlateau reducing learning rate to 1.0000001111620805e-07.\n",
            "1182/1182 [==============================] - 30s 25ms/step - loss: 1.7740e-05 - accuracy: 1.0000 - val_loss: 0.0754 - val_accuracy: 0.9910 - lr: 1.0000e-06\n",
            "Epoch 30/30\n",
            "1182/1182 [==============================] - 31s 26ms/step - loss: 1.7353e-05 - accuracy: 1.0000 - val_loss: 0.0755 - val_accuracy: 0.9910 - lr: 1.0000e-07\n"
          ]
        }
      ]
    },
    {
      "cell_type": "code",
      "source": [
        "test_data =pd.read_csv('/content/test.csv')\n",
        "tf_test_data = tf.data.Dataset.from_tensor_slices(([test_data.to_numpy().reshape(len(test_data), 28, 28, 1)]))"
      ],
      "metadata": {
        "id": "t6LPIWmrxr7m"
      },
      "execution_count": 44,
      "outputs": []
    },
    {
      "cell_type": "code",
      "source": [
        "predictions = model.predict(tf_test_data)\n",
        "predictions = np.argmax(predictions, axis=1)"
      ],
      "metadata": {
        "colab": {
          "base_uri": "https://localhost:8080/"
        },
        "id": "7HMUEUzZyTqF",
        "outputId": "99057760-6ec4-4de7-9923-e52ce1acdf88"
      },
      "execution_count": 45,
      "outputs": [
        {
          "output_type": "stream",
          "name": "stdout",
          "text": [
            "1/1 [==============================] - 2s 2s/step\n"
          ]
        }
      ]
    },
    {
      "cell_type": "code",
      "source": [
        "plt.figure(figsize=(10,10))\n",
        "\n",
        "for i, row in test_data.head(15).iterrows():\n",
        "    plt.subplot(3,5,i+1)\n",
        "    plt.xticks([])\n",
        "    plt.yticks([])\n",
        "    plt.grid(False)\n",
        "\n",
        "    plt.imshow(row.values.reshape((28, 28)), cmap='gray')\n",
        "    plt.xlabel(predictions[i])"
      ],
      "metadata": {
        "colab": {
          "base_uri": "https://localhost:8080/",
          "height": 525
        },
        "id": "vqs6REiT5Klz",
        "outputId": "b6b0e927-e2d0-49e3-dac6-dcdb36a8de4b"
      },
      "execution_count": 48,
      "outputs": [
        {
          "output_type": "display_data",
          "data": {
            "text/plain": [
              "<Figure size 720x720 with 15 Axes>"
            ],
            "image/png": "[encoded data removed]"
          },
          "metadata": {}
        }
      ]
    },
    {
      "cell_type": "code",
      "source": [],
      "metadata": {
        "id": "4OUcGKrF5QHN"
      },
      "execution_count": null,
      "outputs": []
    }
  ]
}